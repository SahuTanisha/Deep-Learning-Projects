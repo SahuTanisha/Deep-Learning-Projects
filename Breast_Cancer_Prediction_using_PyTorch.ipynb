{
  "nbformat": 4,
  "nbformat_minor": 0,
  "metadata": {
    "colab": {
      "provenance": [],
      "gpuType": "T4",
      "authorship_tag": "ABX9TyP9fhFP0de0UxHkefmUtsW1",
      "include_colab_link": true
    },
    "kernelspec": {
      "name": "python3",
      "display_name": "Python 3"
    },
    "language_info": {
      "name": "python"
    },
    "accelerator": "GPU"
  },
  "cells": [
    {
      "cell_type": "markdown",
      "metadata": {
        "id": "view-in-github",
        "colab_type": "text"
      },
      "source": [
        "<a href=\"https://colab.research.google.com/github/SahuTanisha/Deep-Learning-Projects/blob/main/Breast_Cancer_Prediction_using_PyTorch.ipynb\" target=\"_parent\"><img src=\"https://colab.research.google.com/assets/colab-badge.svg\" alt=\"Open In Colab\"/></a>"
      ]
    },
    {
      "cell_type": "markdown",
      "source": [
        "Importing the Dependencies\n",
        "\n"
      ],
      "metadata": {
        "id": "IWqV2IE7YFYk"
      }
    },
    {
      "cell_type": "code",
      "execution_count": 3,
      "metadata": {
        "id": "2OrqRT9cX2Uq"
      },
      "outputs": [],
      "source": [
        "import torch\n",
        "import torch.nn as nn\n",
        "import torch.optim as optim\n",
        "from sklearn.datasets import load_breast_cancer\n",
        "from sklearn.model_selection import train_test_split\n",
        "from sklearn.preprocessing import StandardScaler"
      ]
    },
    {
      "cell_type": "markdown",
      "source": [
        "Device Configuration"
      ],
      "metadata": {
        "id": "nhrbh3J1YqCi"
      }
    },
    {
      "cell_type": "code",
      "source": [
        "# check for CUDA availability\n",
        "device = torch.device(\"cuda\" if torch.cuda.is_available() else \"cpu\")\n",
        "print(f\"Using device: {device}\")"
      ],
      "metadata": {
        "colab": {
          "base_uri": "https://localhost:8080/"
        },
        "id": "H8URR_IwYtC8",
        "outputId": "6dd17459-fbae-4402-d8fa-697ab8aef375"
      },
      "execution_count": 4,
      "outputs": [
        {
          "output_type": "stream",
          "name": "stdout",
          "text": [
            "Using device: cuda\n"
          ]
        }
      ]
    },
    {
      "cell_type": "markdown",
      "source": [
        "Data Collection and Preprocessing"
      ],
      "metadata": {
        "id": "pg5FspTdYzME"
      }
    },
    {
      "cell_type": "code",
      "source": [
        "# load the breast cancer dataset\n",
        "data = load_breast_cancer()\n",
        "X = data.data\n",
        "y = data.target"
      ],
      "metadata": {
        "id": "iVHM3SUzY3X7"
      },
      "execution_count": 5,
      "outputs": []
    },
    {
      "cell_type": "code",
      "source": [
        "print(X)"
      ],
      "metadata": {
        "colab": {
          "base_uri": "https://localhost:8080/"
        },
        "id": "gWZA53EWY8xz",
        "outputId": "44a5f861-d294-4125-9f11-9e41a63cdc58"
      },
      "execution_count": 6,
      "outputs": [
        {
          "output_type": "stream",
          "name": "stdout",
          "text": [
            "[[1.799e+01 1.038e+01 1.228e+02 ... 2.654e-01 4.601e-01 1.189e-01]\n",
            " [2.057e+01 1.777e+01 1.329e+02 ... 1.860e-01 2.750e-01 8.902e-02]\n",
            " [1.969e+01 2.125e+01 1.300e+02 ... 2.430e-01 3.613e-01 8.758e-02]\n",
            " ...\n",
            " [1.660e+01 2.808e+01 1.083e+02 ... 1.418e-01 2.218e-01 7.820e-02]\n",
            " [2.060e+01 2.933e+01 1.401e+02 ... 2.650e-01 4.087e-01 1.240e-01]\n",
            " [7.760e+00 2.454e+01 4.792e+01 ... 0.000e+00 2.871e-01 7.039e-02]]\n"
          ]
        }
      ]
    },
    {
      "cell_type": "code",
      "source": [
        "print(y[:5])"
      ],
      "metadata": {
        "colab": {
          "base_uri": "https://localhost:8080/"
        },
        "id": "Q_EtCcw1ZFp6",
        "outputId": "95e63173-0ff0-48b5-c076-2554999ab780"
      },
      "execution_count": 7,
      "outputs": [
        {
          "output_type": "stream",
          "name": "stdout",
          "text": [
            "[0 0 0 0 0]\n"
          ]
        }
      ]
    },
    {
      "cell_type": "code",
      "source": [
        "# split the dataset into training and test set\n",
        "X_train, X_test, y_train, y_test = train_test_split(X, y, test_size=0.2, random_state=42)"
      ],
      "metadata": {
        "id": "xWDyO7qwZKWT"
      },
      "execution_count": 8,
      "outputs": []
    },
    {
      "cell_type": "code",
      "source": [
        "print(X.shape)\n",
        "print(X_train.shape)\n",
        "print(X_test.shape)"
      ],
      "metadata": {
        "colab": {
          "base_uri": "https://localhost:8080/"
        },
        "id": "6eLItRzPZu_S",
        "outputId": "d4b93343-e2b2-454f-b370-710269383908"
      },
      "execution_count": 9,
      "outputs": [
        {
          "output_type": "stream",
          "name": "stdout",
          "text": [
            "(569, 30)\n",
            "(455, 30)\n",
            "(114, 30)\n"
          ]
        }
      ]
    },
    {
      "cell_type": "code",
      "source": [
        "# standardize the data using Standard sclaer\n",
        "scaler = StandardScaler()\n",
        "\n",
        "X_train = scaler.fit_transform(X_train)\n",
        "X_test = scaler.transform(X_test)"
      ],
      "metadata": {
        "id": "DBik1xpUZ1gi"
      },
      "execution_count": 10,
      "outputs": []
    },
    {
      "cell_type": "code",
      "source": [
        "type(X_train)"
      ],
      "metadata": {
        "colab": {
          "base_uri": "https://localhost:8080/"
        },
        "id": "jxGNlsb7Z7ew",
        "outputId": "2b95a794-6b5f-4366-fc25-9ffd6d811202"
      },
      "execution_count": 11,
      "outputs": [
        {
          "output_type": "execute_result",
          "data": {
            "text/plain": [
              "numpy.ndarray"
            ]
          },
          "metadata": {},
          "execution_count": 11
        }
      ]
    },
    {
      "cell_type": "code",
      "source": [
        "# convert data to PyTorch tensors and move it to GPU\n",
        "X_train = torch.tensor(X_train, dtype=torch.float32).to(device)\n",
        "y_train = torch.tensor(y_train, dtype=torch.float32).to(device)\n",
        "X_test = torch.tensor(X_test, dtype=torch.float32).to(device)\n",
        "y_test = torch.tensor(y_test, dtype=torch.float32).to(device)"
      ],
      "metadata": {
        "id": "Xd9yIUmbaErw"
      },
      "execution_count": 12,
      "outputs": []
    },
    {
      "cell_type": "markdown",
      "source": [
        "Neural Network Architecture"
      ],
      "metadata": {
        "id": "_aPl8MqiaPlo"
      }
    },
    {
      "cell_type": "code",
      "source": [
        "# define the neural network architecture\n",
        "\n",
        "class NeuralNet(nn.Module):\n",
        "\n",
        "  def __init__(self, input_size, hidden_size, output_size):\n",
        "    super(NeuralNet, self).__init__()\n",
        "    self.fc1 = nn.Linear(input_size, hidden_size)\n",
        "    self.relu = nn.ReLU()\n",
        "    self.fc2 = nn.Linear(hidden_size, output_size)\n",
        "    self.sigmoid = nn.Sigmoid()\n",
        "\n",
        "  def forward(self, x):\n",
        "    out = self.fc1(x)\n",
        "    out = self.relu(out)\n",
        "    out = self.fc2(out)\n",
        "    out = self.sigmoid(out)\n",
        "    return out"
      ],
      "metadata": {
        "id": "J8LCiq1SaS1q"
      },
      "execution_count": 13,
      "outputs": []
    },
    {
      "cell_type": "code",
      "source": [
        "# define hyperparameters\n",
        "input_size = X_train.shape[1]\n",
        "hidden_size = 64\n",
        "output_size = 1\n",
        "learning_rate = 0.001\n",
        "num_epochs = 100"
      ],
      "metadata": {
        "id": "suLYTNBKabJ5"
      },
      "execution_count": 14,
      "outputs": []
    },
    {
      "cell_type": "code",
      "source": [
        "# initialize the neural network and move it the GPU\n",
        "model = NeuralNet(input_size, hidden_size, output_size).to(device)"
      ],
      "metadata": {
        "id": "PwfaeYW5adIJ"
      },
      "execution_count": 15,
      "outputs": []
    },
    {
      "cell_type": "code",
      "source": [
        "# define loss and the optiizer\n",
        "criterion = nn.BCELoss()\n",
        "optimizer = optim.Adam(model.parameters(), lr=learning_rate)"
      ],
      "metadata": {
        "id": "yehnfrl-aoc7"
      },
      "execution_count": 16,
      "outputs": []
    },
    {
      "cell_type": "markdown",
      "source": [
        "Training the Neural Network"
      ],
      "metadata": {
        "id": "_9uOY08hapbr"
      }
    },
    {
      "cell_type": "code",
      "source": [
        "# training the model\n",
        "for epoch in range(num_epochs):\n",
        "  model.train()\n",
        "  optimizer.zero_grad()\n",
        "  outputs = model(X_train)\n",
        "  loss = criterion(outputs, y_train.view(-1,1))\n",
        "  loss.backward()\n",
        "  optimizer.step()\n",
        "\n",
        "  # claculate accuracy\n",
        "  with torch.no_grad():\n",
        "    predicted = outputs.round()\n",
        "    correct = (predicted == y_train.view(-1,1)).float().sum()\n",
        "    accuracy = correct/y_train.size(0)\n",
        "\n",
        "  if (epoch+1) % 10 == 0:\n",
        "    print(f\"Epoch [{epoch+1}/{num_epochs}], Loss : {loss.item():.4f}, Accuracy: {accuracy.item() * 100:.2f}%\")"
      ],
      "metadata": {
        "colab": {
          "base_uri": "https://localhost:8080/"
        },
        "id": "15chAxVwbN38",
        "outputId": "926776b4-517f-4b16-b000-1fc41d57d5c7"
      },
      "execution_count": 17,
      "outputs": [
        {
          "output_type": "stream",
          "name": "stdout",
          "text": [
            "Epoch [10/100], Loss : 0.5915, Accuracy: 89.67%\n",
            "Epoch [20/100], Loss : 0.4687, Accuracy: 92.97%\n",
            "Epoch [30/100], Loss : 0.3719, Accuracy: 93.41%\n",
            "Epoch [40/100], Loss : 0.2966, Accuracy: 93.85%\n",
            "Epoch [50/100], Loss : 0.2405, Accuracy: 94.51%\n",
            "Epoch [60/100], Loss : 0.2001, Accuracy: 95.82%\n",
            "Epoch [70/100], Loss : 0.1711, Accuracy: 96.04%\n",
            "Epoch [80/100], Loss : 0.1497, Accuracy: 96.70%\n",
            "Epoch [90/100], Loss : 0.1334, Accuracy: 97.36%\n",
            "Epoch [100/100], Loss : 0.1205, Accuracy: 97.58%\n"
          ]
        }
      ]
    },
    {
      "cell_type": "markdown",
      "source": [
        "Model Evaluation"
      ],
      "metadata": {
        "id": "7uV0ZrA4DJvC"
      }
    },
    {
      "cell_type": "code",
      "source": [
        "# evaluation on training set\n",
        "model.eval()\n",
        "with torch.no_grad():\n",
        "  outputs = model(X_train)\n",
        "  predicted = outputs.round()\n",
        "  correct = (predicted == y_train.view(-1,1)).float().sum()\n",
        "  accuracy = correct/y_train.size(0)\n",
        "  print(f\"Accuracy on training data: {accuracy.item() * 100:.2f}%\")"
      ],
      "metadata": {
        "colab": {
          "base_uri": "https://localhost:8080/"
        },
        "id": "JyqIi7L6DMIB",
        "outputId": "7b2d5cf7-9f28-4ee7-ce58-8dbdd377fb56"
      },
      "execution_count": 18,
      "outputs": [
        {
          "output_type": "stream",
          "name": "stdout",
          "text": [
            "Accuracy on training data: 97.58%\n"
          ]
        }
      ]
    },
    {
      "cell_type": "code",
      "source": [
        "# evaluation on test set\n",
        "model.eval()\n",
        "with torch.no_grad():\n",
        "  outputs = model(X_test)\n",
        "  predicted = outputs.round()\n",
        "  correct = (predicted == y_test.view(-1,1)).float().sum()\n",
        "  accuracy = correct/y_test.size(0)\n",
        "  print(f\"Accuracy on test data: {accuracy.item() * 100:.2f}%\")"
      ],
      "metadata": {
        "id": "pnGLySvKDcpL"
      },
      "execution_count": null,
      "outputs": []
    }
  ]
}